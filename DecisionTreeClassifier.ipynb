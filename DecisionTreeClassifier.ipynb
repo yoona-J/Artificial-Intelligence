{
  "nbformat": 4,
  "nbformat_minor": 0,
  "metadata": {
    "colab": {
      "provenance": []
    },
    "kernelspec": {
      "name": "python3",
      "display_name": "Python 3"
    },
    "language_info": {
      "name": "python"
    }
  },
  "cells": [
    {
      "cell_type": "code",
      "source": [
        "from sklearn import datasets\n",
        "from sklearn import metrics\n",
        "from sklearn.tree import DecisionTreeClassifier\n",
        "\n",
        "# 데이터 읽기기\n",
        "d = datasets.load_iris()\n",
        "\n",
        "# max_depth => 트리의 레벨이 0~4까지로 오버피팅되지 않도록 한다\n",
        "# min_samples_split => 한개의 노드 안에 3 정도의 불순도까지는 허용한다 (작아질수록 오버피팅)\n",
        "dtree_model = DecisionTreeClassifier(max_depth = 4, min_samples_split = 3)\n",
        "dtree_model.fit(d.data, d.target)\n",
        "\n",
        "new_d = [[6.4, 3.2, 6.0, 2.5], [7.1, 3.1, 4.7, 1.35]]\n",
        "res1 = dtree_model.predict(new_d)\n",
        "\n",
        "print(\"새로운 2개 샘플 부류는: \", res1)\n",
        "res2 = dtree_model.predict(d.data)\n",
        "print(\"정확도: \", metrics.accuracy_score(res2, d.target))"
      ],
      "metadata": {
        "id": "XkO8qOO6-ugv",
        "colab": {
          "base_uri": "https://localhost:8080/"
        },
        "outputId": "d09a7b03-3be8-4544-8a38-eac8c2d33269"
      },
      "execution_count": null,
      "outputs": [
        {
          "output_type": "stream",
          "name": "stdout",
          "text": [
            "새로운 2개 샘플 부류는:  [2 1]\n",
            "정확도:  0.9933333333333333\n"
          ]
        }
      ]
    }
  ]
}