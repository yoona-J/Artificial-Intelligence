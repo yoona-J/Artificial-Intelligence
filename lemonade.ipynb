{
  "nbformat": 4,
  "nbformat_minor": 0,
  "metadata": {
    "colab": {
      "provenance": []
    },
    "kernelspec": {
      "name": "python3",
      "display_name": "Python 3"
    },
    "language_info": {
      "name": "python"
    }
  },
  "cells": [
    {
      "cell_type": "code",
      "execution_count": null,
      "metadata": {
        "colab": {
          "base_uri": "https://localhost:8080/"
        },
        "id": "wrvaZYR6RKJ_",
        "outputId": "096507fe-8291-4416-ddbf-6db368edd0fd"
      },
      "outputs": [
        {
          "output_type": "stream",
          "name": "stdout",
          "text": [
            "(6, 2)\n",
            "(6, 1) (6, 1)\n",
            "Epoch 1/10\n",
            "1/1 [==============================] - 0s 13ms/step - loss: 9.2986\n",
            "Epoch 2/10\n",
            "1/1 [==============================] - 0s 16ms/step - loss: 9.1646\n",
            "Epoch 3/10\n",
            "1/1 [==============================] - 0s 11ms/step - loss: 9.0316\n",
            "Epoch 4/10\n",
            "1/1 [==============================] - 0s 10ms/step - loss: 8.8996\n",
            "Epoch 5/10\n",
            "1/1 [==============================] - 0s 13ms/step - loss: 8.7686\n",
            "Epoch 6/10\n",
            "1/1 [==============================] - 0s 13ms/step - loss: 8.6387\n",
            "Epoch 7/10\n",
            "1/1 [==============================] - 0s 11ms/step - loss: 8.5098\n",
            "Epoch 8/10\n",
            "1/1 [==============================] - 0s 8ms/step - loss: 8.3820\n",
            "Epoch 9/10\n",
            "1/1 [==============================] - 0s 10ms/step - loss: 8.2552\n",
            "Epoch 10/10\n",
            "1/1 [==============================] - 0s 11ms/step - loss: 8.1294\n",
            "1/1 [==============================] - 0s 125ms/step\n",
            "[[37.609367]\n",
            " [39.43986 ]\n",
            " [41.27036 ]\n",
            " [43.100857]\n",
            " [44.93135 ]\n",
            " [46.76185 ]]\n",
            "1/1 [==============================] - 0s 62ms/step\n",
            "[[28.456888]]\n"
          ]
        }
      ],
      "source": [
        "import tensorflow as tf\n",
        "import pandas as pd\n",
        "\n",
        "# 데이터 준비\n",
        "filepath = '/content/lemonade.csv'\n",
        "lemonade = pd.read_csv(filepath)\n",
        "lemonade.head()\n",
        "\n",
        "# 변수 선언 (독립 변수(원인), 종속 변수(결과))\n",
        "independent = lemonade[['temp']] # 온도에 따른(원인)\n",
        "dependent = lemonade[['sales']] # 판매값(결과)\n",
        "print(lemonade.shape) # 구조 확인 (6, 2)\n",
        "print(independent.shape, dependent.shape) # (6, 1) (6, 1)\n",
        "\n",
        "# 모델 구조 생성\n",
        "X = tf.keras.layers.Input(shape=[1]) # tensorflow를 이용한 입력 레이어 제작 -> 1차원 모양으로\n",
        "Y = tf.keras.layers.Dense(1)(X) # tensorflow를 이용한 출력 레이어 제작 -> X를 받아서 1차원 모양으로 return (Dense => input으로 들어오는 모든 데이터를 다 사용)\n",
        "model = tf.keras.models.Model(X, Y) # 입력 = X, 출력 = Y 임을 알려줌\n",
        "model.compile(loss = 'mse') # 모델을 실행할 때 loss로 잘 돌아가는 지 확인한다. (mse => (나온 값 - 원래 값) * 제곱 후 그 값을 모두 더한 뒤 더한 개수 만큼 나눈 값 : 평균제곱오차)\n",
        "\n",
        "# 모델 학습\n",
        "# verbose = 0 => 학습하는 동안에 안 보임\n",
        "model.fit(independent, dependent, epochs=1000, verbose=0) # 모델을 학습(fit)한다. (epochs => 학습량)\n",
        "model.fit(independent, dependent, epochs=10)\n",
        "\n",
        "# 모델 예측 (이용)\n",
        "print(model.predict(independent))\n",
        "print(model.predict([[15]])) # 15라는 독립 변수가 들어갈 때 결과 예측"
      ]
    }
  ]
}